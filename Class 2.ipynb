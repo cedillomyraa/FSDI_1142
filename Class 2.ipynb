{
 "cells": [
  {
   "cell_type": "code",
   "execution_count": 9,
   "id": "f6add372",
   "metadata": {},
   "outputs": [],
   "source": [
    "class Stack:\n",
    "    def __init__(self):\n",
    "        self.items = []\n",
    "        \n",
    "    def push(self, element):\n",
    "        self.items.append(element)\n",
    "    \n",
    "    def pop(self):\n",
    "        return self.items.pop()\n",
    "    \n",
    "    def get_size(self):\n",
    "        return len(self.items)\n",
    "    \n",
    "    def is_empty(self):\n",
    "        return self.items == []   "
   ]
  },
  {
   "cell_type": "code",
   "execution_count": 11,
   "id": "05704b9d",
   "metadata": {},
   "outputs": [
    {
     "name": "stdout",
     "output_type": "stream",
     "text": [
      "Pushing 1\n",
      "Pushing 2\n",
      "Pushing 3\n",
      "Pushing 4\n",
      "Pushing 5\n",
      "Got 5 from pop result\n",
      "Got 4 from pop result\n",
      "Got 3 from pop result\n",
      "Got 2 from pop result\n",
      "Got 1 from pop result\n"
     ]
    }
   ],
   "source": [
    "numbers = [1,2,3,4,5]\n",
    "\n",
    "def print_inverted_list(my_collection):\n",
    "    stack = Stack()\n",
    "    for number in numbers:\n",
    "        print(\"Pushing %s\" % number)\n",
    "        stack.push(number)\n",
    "    while not stack.is_empty():\n",
    "        number = stack.pop()\n",
    "        print(\"Got %s from pop result\" % number)\n",
    "        \n",
    "print_inverted_list(numbers)"
   ]
  },
  {
   "cell_type": "code",
   "execution_count": 48,
   "id": "bc99cbad",
   "metadata": {},
   "outputs": [],
   "source": [
    "#challenge #1\n",
    "\n",
    "class Stack:\n",
    "    def __init__(self):\n",
    "        self.items = []\n",
    "        \n",
    "    def push(self, element):\n",
    "        self.items.append(element)\n",
    "    \n",
    "    def pop(self):\n",
    "        return self.items.pop()\n",
    "    \n",
    "    def get_size(self):\n",
    "        return len(self.items)\n",
    "    \n",
    "    def is_empty(self):\n",
    "        return self.items == []   \n"
   ]
  },
  {
   "cell_type": "code",
   "execution_count": 49,
   "id": "bc8b5b84",
   "metadata": {},
   "outputs": [
    {
     "name": "stdout",
     "output_type": "stream",
     "text": [
      "Pushing m\n",
      "Pushing a\n",
      "Pushing i\n",
      "Pushing r\n",
      "Pushing a\n",
      "Got a from pop result\n",
      "Got r from pop result\n",
      "Got i from pop result\n",
      "Got a from pop result\n",
      "Got m from pop result\n"
     ]
    }
   ],
   "source": [
    "names = \"maira\"\n",
    "\n",
    "def print_inverted_name(my_collection):\n",
    "    stack = Stack()\n",
    "    for name in names:\n",
    "        print(\"Pushing %s\" % name)\n",
    "        stack.push(name)\n",
    "    while not stack.is_empty():\n",
    "        name = stack.pop()\n",
    "        print(\"Got %s from pop result\" % name)\n",
    "        \n",
    "print_inverted_name(names)\n"
   ]
  },
  {
   "cell_type": "code",
   "execution_count": 37,
   "id": "5e061785",
   "metadata": {},
   "outputs": [
    {
     "ename": "IndentationError",
     "evalue": "unindent does not match any outer indentation level (<tokenize>, line 5)",
     "output_type": "error",
     "traceback": [
      "\u001b[0;36m  File \u001b[0;32m<tokenize>:5\u001b[0;36m\u001b[0m\n\u001b[0;31m    def enqueue(self, element):\u001b[0m\n\u001b[0m    ^\u001b[0m\n\u001b[0;31mIndentationError\u001b[0m\u001b[0;31m:\u001b[0m unindent does not match any outer indentation level\n"
     ]
    }
   ],
   "source": [
    "class Queue:\n",
    "      def __init__(self):\n",
    "        self.items = []\n",
    "        \n",
    "    def enqueue(self, element):\n",
    "        self.items.append(element)\n",
    "    \n",
    "    def dequeue(self):\n",
    "        self.items.pop()\n",
    "    \n",
    "    def get_size(self):\n",
    "        return len(self.items)\n",
    "    \n",
    "    def is_empty(self):\n",
    "        return self.items == []   \n",
    "    "
   ]
  },
  {
   "cell_type": "code",
   "execution_count": 59,
   "id": "4ebf8be5",
   "metadata": {},
   "outputs": [
    {
     "ename": "IndentationError",
     "evalue": "unindent does not match any outer indentation level (<tokenize>, line 5)",
     "output_type": "error",
     "traceback": [
      "\u001b[0;36m  File \u001b[0;32m<tokenize>:5\u001b[0;36m\u001b[0m\n\u001b[0;31m    def enqueue(self, element):\u001b[0m\n\u001b[0m    ^\u001b[0m\n\u001b[0;31mIndentationError\u001b[0m\u001b[0;31m:\u001b[0m unindent does not match any outer indentation level\n"
     ]
    }
   ],
   "source": [
    "class Queue:\n",
    "      def __init__(self.s1):\n",
    "        self.s1.items = []\n",
    "        \n",
    "    def enqueue(self, element):\n",
    "        self.items.append(element)\n",
    "    \n",
    "    def dequeue(self):\n",
    "        self.items.pop()\n",
    "    \n",
    "    def get_size(self):\n",
    "        return len(self.items)\n",
    "    \n",
    "    def is_empty(self):\n",
    "        return self.items == [] "
   ]
  },
  {
   "cell_type": "code",
   "execution_count": 60,
   "id": "202ae3a0",
   "metadata": {},
   "outputs": [
    {
     "ename": "SyntaxError",
     "evalue": "invalid syntax (484258818.py, line 5)",
     "output_type": "error",
     "traceback": [
      "\u001b[0;36m  Input \u001b[0;32mIn [60]\u001b[0;36m\u001b[0m\n\u001b[0;31m    ```Example (of oredering principle):\u001b[0m\n\u001b[0m    ^\u001b[0m\n\u001b[0;31mSyntaxError\u001b[0m\u001b[0;31m:\u001b[0m invalid syntax\n"
     ]
    }
   ],
   "source": [
    "#Challange #2\n",
    "#Create a queue from 2 strings, \n",
    "#Create a class named Queue2Stacks that consit of only 2 stacks.\n",
    "#The class should maintain the ordering principle of a Queue while being made up of two stacks\n",
    "```Example (of oredering principle): \n",
    "myqueue = Queue2Stack()\n",
    "myqueue.enqueue(\"A\")\n",
    "myqueue.enqueue(\"B\")\n",
    "myqueue.enqueue(\"C\")\n",
    "\n",
    "assert my queue.dequeue() == \"A\"\n",
    "assert my queue.dequeue() == \"B\"\n",
    "assert my queue.dequeue() == \"C\"\n",
    "\n",
    "class Queue2Stack:\n",
    "    def__init__(self):\n",
    "        self.instack = []\n",
    "        self.outstack = []\n",
    "```"
   ]
  },
  {
   "cell_type": "code",
   "execution_count": 64,
   "id": "3c8f5fad",
   "metadata": {},
   "outputs": [],
   "source": [
    "class Queue2Stacks:\n",
    "    def __init__(self):\n",
    "        self.stack1 = []\n",
    "        self.stack2 = []\n",
    "        \n",
    "    def enqueue(self, item):\n",
    "        self.stack1.append(item)\n",
    "        \n",
    "    def dequeue(self):\n",
    "        if not self.stack2: \n",
    "            while(self.stack1):\n",
    "                item = self.stack1.pop()\n",
    "                self.stack2.append(item)\n",
    "        return self.stack2.pop()"
   ]
  },
  {
   "cell_type": "code",
   "execution_count": 65,
   "id": "fee6e5aa",
   "metadata": {},
   "outputs": [
    {
     "name": "stdout",
     "output_type": "stream",
     "text": [
      "0\n",
      "1\n",
      "2\n",
      "3\n",
      "4\n"
     ]
    }
   ],
   "source": [
    "myqueue = Queue2Stacks()\n",
    "for i in range(5):\n",
    "    myqueue.enqueue(i)\n",
    "    \n",
    "for _ in range(5):\n",
    "    item = myqueue.dequeue()\n",
    "    print(item) "
   ]
  },
  {
   "cell_type": "code",
   "execution_count": null,
   "id": "e1de0abf",
   "metadata": {},
   "outputs": [],
   "source": []
  }
 ],
 "metadata": {
  "kernelspec": {
   "display_name": "Python 3 (ipykernel)",
   "language": "python",
   "name": "python3"
  },
  "language_info": {
   "codemirror_mode": {
    "name": "ipython",
    "version": 3
   },
   "file_extension": ".py",
   "mimetype": "text/x-python",
   "name": "python",
   "nbconvert_exporter": "python",
   "pygments_lexer": "ipython3",
   "version": "3.8.10"
  }
 },
 "nbformat": 4,
 "nbformat_minor": 5
}
