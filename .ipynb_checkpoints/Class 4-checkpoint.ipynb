{
 "cells": [
  {
   "cell_type": "markdown",
   "id": "2d08ccd6",
   "metadata": {},
   "source": [
    "#Challenge 1 \n",
    "#Use what we have learned to create a linked list that allows us to append and insert new nodes.\n",
    "\n",
    "#Test with the following cases\n",
    "```\n",
    "mylist = LinkedList()\n",
    "for i in range()5:\n",
    "    mylist.append\n",
    "    \n",
    "current = mylist.head\n",
    "for i in range(5):\n",
    "    assert current.date == i\n",
    "    \n",
    "mylist.insert(0, -1)\n",
    "\n",
    "assert mylist.head.data == -1\n",
    "```"
   ]
  },
  {
   "cell_type": "code",
   "execution_count": null,
   "id": "582876cc",
   "metadata": {},
   "outputs": [],
   "source": []
  },
  {
   "cell_type": "code",
   "execution_count": 34,
   "id": "75f497d6",
   "metadata": {},
   "outputs": [],
   "source": [
    "class Node:\n",
    "    def __init__(self, data):\n",
    "        self.data = data\n",
    "        self.next = None\n",
    "        \n",
    "class LinkedList:\n",
    "    def __init__(self):\n",
    "        self.head = None\n",
    "        \n",
    "    def append(self, item):\n",
    "        if not self.head:\n",
    "            new_node = Node(item)\n",
    "            self.head = new_node\n",
    "        else:\n",
    "            current = self.head\n",
    "            while current.next:\n",
    "                current = current.next\n",
    "            new_node = Node(item)\n",
    "            current.next = new_node\n",
    "            \n",
    "    def insert(self, index, item):\n",
    "        new_node = Node(item)\n",
    "        if not self.head:\n",
    "            self.head = new_node\n",
    "        elif index == 0:\n",
    "            new_node.next = self.head\n",
    "            self.head = new_node\n",
    "        else:\n",
    "            counter = 0\n",
    "            current = self.head\n",
    "            prev = None\n",
    "            while current.next and index != counter:\n",
    "                prev = current\n",
    "                current = current.next\n",
    "                counter += 1\n",
    "            if index == counter:\n",
    "                prev.next = new_node\n",
    "                new_node.next = current\n",
    "            else:\n",
    "                current.next = new_node\n",
    "    def remove(self, value):\n",
    "        current = self.head\n",
    "        if current.data == value:\n",
    "            self.head = current.next\n",
    "        \n",
    "        else:\n",
    "            prev = None\n",
    "            while current.next and current.data != value:\n",
    "                prev = current\n",
    "                current = current.next\n",
    "            if current.data == value:\n",
    "                prev.next = current.next\n",
    "            else: \n",
    "                raise ValueError(\"%s is not in list.\" % value)\n",
    "                \n",
    "    def __str__(self):\n",
    "        output_str = \"[\"\n",
    "        current = self.head\n",
    "        output_str += \"%s\" % current.data\n",
    "        current = current.next\n",
    "        while current:\n",
    "            output_str += \", %s\" % current.data\n",
    "            current = current.next\n",
    "        output_str += ']'\n",
    "        return output_str\n",
    "    \n",
    "    def __len__(self):\n",
    "        current = self.head\n",
    "        length = 0\n",
    "        while current:\n",
    "            current = current.next\n",
    "            length += 1\n",
    "        return length\n",
    "        "
   ]
  },
  {
   "cell_type": "code",
   "execution_count": 35,
   "id": "7ab1ac9b",
   "metadata": {},
   "outputs": [
    {
     "name": "stdout",
     "output_type": "stream",
     "text": [
      "[-1, 0, 1, 2, 3, 4]\n",
      "6\n"
     ]
    }
   ],
   "source": [
    "mylist = LinkedList()\n",
    "for i in range(5):\n",
    "    mylist.append(i)\n",
    "    \n",
    "current = mylist.head\n",
    "for i in range(5):\n",
    "    assert current.data == i\n",
    "    current = current.next\n",
    "    \n",
    "mylist.insert(0,-1)\n",
    "\n",
    "assert mylist.head.data == -1\n",
    "\n",
    "print(mylist)\n",
    "print(len(mylist))"
   ]
  },
  {
   "cell_type": "code",
   "execution_count": 36,
   "id": "abad1a7e",
   "metadata": {},
   "outputs": [
    {
     "name": "stdout",
     "output_type": "stream",
     "text": [
      "[0, 1, 2, 3, 4]\n"
     ]
    }
   ],
   "source": [
    "x = [0, 1, 2, 3, 4]\n",
    "print(x)"
   ]
  },
  {
   "cell_type": "code",
   "execution_count": null,
   "id": "cd72e8bc",
   "metadata": {},
   "outputs": [],
   "source": []
  }
 ],
 "metadata": {
  "kernelspec": {
   "display_name": "Python 3 (ipykernel)",
   "language": "python",
   "name": "python3"
  },
  "language_info": {
   "codemirror_mode": {
    "name": "ipython",
    "version": 3
   },
   "file_extension": ".py",
   "mimetype": "text/x-python",
   "name": "python",
   "nbconvert_exporter": "python",
   "pygments_lexer": "ipython3",
   "version": "3.8.10"
  }
 },
 "nbformat": 4,
 "nbformat_minor": 5
}
