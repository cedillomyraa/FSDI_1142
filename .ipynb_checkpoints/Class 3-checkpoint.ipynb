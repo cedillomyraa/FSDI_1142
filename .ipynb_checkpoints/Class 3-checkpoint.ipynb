{
 "cells": [
  {
   "cell_type": "code",
   "execution_count": 28,
   "id": "0215eda5",
   "metadata": {},
   "outputs": [],
   "source": [
    "#Challange 3\n",
    "class Checks:\n",
    "   def balance_check (self, s: str):\n",
    "       stack = []\n",
    "       pair = {'(' : ')' , '{' : '}' , '[' : ']'}\n",
    "       opening = set('([{')\n",
    "       closing = set('([)]')\n",
    "       for i in s :\n",
    "           if i in opening :\n",
    "               stack.append(i)\n",
    "           if i in closing :\n",
    "               if not stack :\n",
    "                   return False\n",
    "               elif stack.pop() != pair[i] :\n",
    "                   return False\n",
    "               else :\n",
    "                   continue\n",
    "       if not stack :\n",
    "           return True\n",
    "       else :\n",
    "           return False"
   ]
  },
  {
   "cell_type": "code",
   "execution_count": 29,
   "id": "d1d61762",
   "metadata": {},
   "outputs": [
    {
     "name": "stdout",
     "output_type": "stream",
     "text": [
      "Is {[()]} valid ? : False\n",
      "Is {[()]}{]{}} valid ? : False\n"
     ]
    }
   ],
   "source": [
    "if __name__ == '__main__':\n",
    "   s = '{[()]}'\n",
    "   print(f'Is {s} valid ? : {Checks().balance_check(s)}')\n",
    "   s1 = '{[()]}{]{}}'\n",
    "   print(f'Is {s1} valid ? : {Checks().balance_check (s1)}')"
   ]
  },
  {
   "cell_type": "code",
   "execution_count": null,
   "id": "64806f23",
   "metadata": {},
   "outputs": [],
   "source": []
  },
  {
   "cell_type": "code",
   "execution_count": null,
   "id": "d27932ae",
   "metadata": {},
   "outputs": [],
   "source": []
  },
  {
   "cell_type": "code",
   "execution_count": null,
   "id": "7bcfad5d",
   "metadata": {},
   "outputs": [],
   "source": []
  },
  {
   "cell_type": "code",
   "execution_count": null,
   "id": "c007ee9b",
   "metadata": {},
   "outputs": [],
   "source": []
  },
  {
   "cell_type": "code",
   "execution_count": null,
   "id": "5f3c4e68",
   "metadata": {},
   "outputs": [],
   "source": []
  },
  {
   "cell_type": "code",
   "execution_count": null,
   "id": "c7a0dd7a",
   "metadata": {},
   "outputs": [],
   "source": [
    "# define function balance_check with parameters: string s\n",
    "# if the length of s is not even:\n",
    "#    return false\n",
    "#->what happens otherwise?\n",
    "#-> if the length of s is even:\n",
    "#-> if s is a valid even stack pop pair\n",
    "#    return True\n",
    "#"
   ]
  },
  {
   "cell_type": "code",
   "execution_count": 30,
   "id": "32b3d1cc",
   "metadata": {},
   "outputs": [],
   "source": [
    "#Challange 3\n",
    "def balance_check (s):\n",
    "    if len(s) % 2 != 0:\n",
    "        return False\n",
    "    stack = []\n",
    "    pair = {'(' : ')' , '{' : '}' , '[' : ']'}\n",
    "    opening =set('{[(')\n",
    "    for i in s :\n",
    "        if i in opening :\n",
    "            stack.append(i)\n",
    "        else:\n",
    "            element = stack.pop()\n",
    "            if pair.get(element) != i: \n",
    "                return False"
   ]
  },
  {
   "cell_type": "code",
   "execution_count": null,
   "id": "4b14460b",
   "metadata": {},
   "outputs": [],
   "source": [
    "\n",
    "  \n",
    " "
   ]
  },
  {
   "cell_type": "code",
   "execution_count": null,
   "id": "49349534",
   "metadata": {},
   "outputs": [],
   "source": []
  }
 ],
 "metadata": {
  "kernelspec": {
   "display_name": "Python 3 (ipykernel)",
   "language": "python",
   "name": "python3"
  },
  "language_info": {
   "codemirror_mode": {
    "name": "ipython",
    "version": 3
   },
   "file_extension": ".py",
   "mimetype": "text/x-python",
   "name": "python",
   "nbconvert_exporter": "python",
   "pygments_lexer": "ipython3",
   "version": "3.8.10"
  }
 },
 "nbformat": 4,
 "nbformat_minor": 5
}
